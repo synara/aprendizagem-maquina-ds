{
 "cells": [
  {
   "cell_type": "markdown",
   "metadata": {},
   "source": [
    "## Trabalho \n",
    "#### Carregar o conjunto de dados do site de complaints e categorizar o tipo de produto baseado no texto do usuário"
   ]
  },
  {
   "cell_type": "markdown",
   "metadata": {},
   "source": [
    "### 1. Carregando o dataset "
   ]
  },
  {
   "cell_type": "code",
   "execution_count": 1,
   "metadata": {},
   "outputs": [],
   "source": [
    "import pandas as pd"
   ]
  },
  {
   "cell_type": "code",
   "execution_count": 2,
   "metadata": {},
   "outputs": [
    {
     "name": "stderr",
     "output_type": "stream",
     "text": [
      "c:\\users\\112865\\appdata\\local\\programs\\python\\python39\\lib\\site-packages\\IPython\\core\\interactiveshell.py:3169: DtypeWarning: Columns (5) have mixed types.Specify dtype option on import or set low_memory=False.\n",
      "  has_raised = await self.run_ast_nodes(code_ast.body, cell_name,\n"
     ]
    }
   ],
   "source": [
    "data = pd.read_csv('complaints.csv')"
   ]
  },
  {
   "cell_type": "code",
   "execution_count": 3,
   "metadata": {},
   "outputs": [
    {
     "data": {
      "text/plain": [
       "(2124146, 18)"
      ]
     },
     "execution_count": 3,
     "metadata": {},
     "output_type": "execute_result"
    }
   ],
   "source": [
    "data.shape"
   ]
  },
  {
   "cell_type": "code",
   "execution_count": 4,
   "metadata": {},
   "outputs": [],
   "source": [
    "data = data[data['Consumer complaint narrative'].notna()]"
   ]
  },
  {
   "cell_type": "code",
   "execution_count": 5,
   "metadata": {},
   "outputs": [],
   "source": [
    "X = data['Consumer complaint narrative']\n",
    "y = data['Product']"
   ]
  },
  {
   "cell_type": "code",
   "execution_count": 6,
   "metadata": {},
   "outputs": [
    {
     "data": {
      "text/plain": [
       "5          Two accounts are still on my credit history af...\n",
       "9          I opened a citi double cash card the beginning...\n",
       "10         I filed 2 disputes with XXXX XXXX XXXX in XX/X...\n",
       "11         In dispute of the loan # XXXX, for XXXX XXXX t...\n",
       "31         Notice to whom it be of concern,It is YOU I ho...\n",
       "                                 ...                        \n",
       "2124140    Automated calls from \" XXXX with Capital One '...\n",
       "2124141    I have disputed my debts several times with no...\n",
       "2124142    My father died in XX/XX/XXXX. Left me his only...\n",
       "2124143    cfbp i would Like to file a complaint on Exper...\n",
       "2124144    My husband and I are in the middle of an FHA S...\n",
       "Name: Consumer complaint narrative, Length: 730232, dtype: object"
      ]
     },
     "execution_count": 6,
     "metadata": {},
     "output_type": "execute_result"
    }
   ],
   "source": [
    "X"
   ]
  },
  {
   "cell_type": "code",
   "execution_count": 7,
   "metadata": {},
   "outputs": [
    {
     "data": {
      "text/plain": [
       "5          Credit reporting, credit repair services, or o...\n",
       "9                                Credit card or prepaid card\n",
       "10         Credit reporting, credit repair services, or o...\n",
       "11                                                  Mortgage\n",
       "31         Credit reporting, credit repair services, or o...\n",
       "                                 ...                        \n",
       "2124140                                          Credit card\n",
       "2124141                                      Debt collection\n",
       "2124142                                             Mortgage\n",
       "2124143                                     Credit reporting\n",
       "2124144                                     Credit reporting\n",
       "Name: Product, Length: 730232, dtype: object"
      ]
     },
     "execution_count": 7,
     "metadata": {},
     "output_type": "execute_result"
    }
   ],
   "source": [
    "y"
   ]
  },
  {
   "cell_type": "markdown",
   "metadata": {},
   "source": [
    "### 2. Testes com alguns modelos"
   ]
  },
  {
   "cell_type": "markdown",
   "metadata": {},
   "source": [
    "#### 2.1 Textos usados para testes"
   ]
  },
  {
   "cell_type": "code",
   "execution_count": 8,
   "metadata": {},
   "outputs": [],
   "source": [
    "textos = ['I do not like to study', \n",
    "          'I want to go to college', \n",
    "          'I will be a computer student',\n",
    "          'I need money',\n",
    "          'I like data science',\n",
    "          'I used my emails years ago paying for a transaction',\n",
    "          'Student, student, student.',\n",
    "          'I am 24 years old',\n",
    "          'I need to send an email to my professor']"
   ]
  },
  {
   "cell_type": "markdown",
   "metadata": {},
   "source": [
    "#### 2.2 Método para exibir predições"
   ]
  },
  {
   "cell_type": "code",
   "execution_count": 9,
   "metadata": {},
   "outputs": [],
   "source": [
    "def predicoes(textos, preds):\n",
    "    for doc, pred in zip(textos, preds):\n",
    "        print(f'Texto: {doc} \\nClasse: {pred}\\n')"
   ]
  },
  {
   "cell_type": "markdown",
   "metadata": {},
   "source": [
    "#### 2.3 Usando o CountVectorizer"
   ]
  },
  {
   "cell_type": "code",
   "execution_count": 10,
   "metadata": {},
   "outputs": [],
   "source": [
    "from sklearn.feature_extraction.text import CountVectorizer\n",
    "#Pré-processamento de texto, tokenização e filtragem de palavras irrelevantes estão incluídos no CountVectorizer, \n",
    "#que cria um dicionário de recursos e transforma documentos em vetores de recursos."
   ]
  },
  {
   "cell_type": "code",
   "execution_count": 11,
   "metadata": {},
   "outputs": [],
   "source": [
    "count_vect = CountVectorizer(lowercase=True)\n",
    "X_train = count_vect.fit_transform(X)"
   ]
  },
  {
   "cell_type": "code",
   "execution_count": 12,
   "metadata": {},
   "outputs": [
    {
     "data": {
      "text/plain": [
       "(730232, 154159)"
      ]
     },
     "execution_count": 12,
     "metadata": {},
     "output_type": "execute_result"
    }
   ],
   "source": [
    "X_train.shape"
   ]
  },
  {
   "cell_type": "code",
   "execution_count": 13,
   "metadata": {},
   "outputs": [
    {
     "data": {
      "text/plain": [
       "<1x154159 sparse matrix of type '<class 'numpy.int64'>'\n",
       "\twith 20 stored elements in Compressed Sparse Row format>"
      ]
     },
     "execution_count": 13,
     "metadata": {},
     "output_type": "execute_result"
    }
   ],
   "source": [
    "X_train[0]"
   ]
  },
  {
   "cell_type": "code",
   "execution_count": 14,
   "metadata": {},
   "outputs": [
    {
     "data": {
      "text/plain": [
       "matrix([[0, 0, 0, ..., 0, 0, 0]], dtype=int64)"
      ]
     },
     "execution_count": 14,
     "metadata": {},
     "output_type": "execute_result"
    }
   ],
   "source": [
    "X_train[0].todense()"
   ]
  },
  {
   "cell_type": "code",
   "execution_count": 15,
   "metadata": {},
   "outputs": [
    {
     "data": {
      "text/plain": [
       "128406"
      ]
     },
     "execution_count": 15,
     "metadata": {},
     "output_type": "execute_result"
    }
   ],
   "source": [
    "count_vect.vocabulary_.get(u'student')"
   ]
  },
  {
   "cell_type": "code",
   "execution_count": 16,
   "metadata": {},
   "outputs": [],
   "source": [
    "teste = count_vect.transform(textos)"
   ]
  },
  {
   "cell_type": "markdown",
   "metadata": {},
   "source": [
    "#### 2.3 Usando o MultinomialNB"
   ]
  },
  {
   "cell_type": "code",
   "execution_count": 17,
   "metadata": {},
   "outputs": [],
   "source": [
    "from sklearn.naive_bayes import MultinomialNB\n",
    "#Classificador para tentar prever a categoria de uma postagem."
   ]
  },
  {
   "cell_type": "code",
   "execution_count": 18,
   "metadata": {},
   "outputs": [
    {
     "data": {
      "text/plain": [
       "MultinomialNB()"
      ]
     },
     "execution_count": 18,
     "metadata": {},
     "output_type": "execute_result"
    }
   ],
   "source": [
    "nb = MultinomialNB()\n",
    "nb.fit(X_train,y)"
   ]
  },
  {
   "cell_type": "code",
   "execution_count": 19,
   "metadata": {},
   "outputs": [],
   "source": [
    "preds = nb.predict(teste)"
   ]
  },
  {
   "cell_type": "code",
   "execution_count": 20,
   "metadata": {},
   "outputs": [
    {
     "name": "stdout",
     "output_type": "stream",
     "text": [
      "Texto: I do not like to study \n",
      "Classe: Student loan\n",
      "\n",
      "Texto: I want to go to college \n",
      "Classe: Student loan\n",
      "\n",
      "Texto: I will be a computer student \n",
      "Classe: Student loan\n",
      "\n",
      "Texto: I need money \n",
      "Classe: Checking or savings account\n",
      "\n",
      "Texto: I like data science \n",
      "Classe: Credit reporting, credit repair services, or other personal consumer reports\n",
      "\n",
      "Texto: I used my emails years ago paying for a transaction \n",
      "Classe: Credit card or prepaid card\n",
      "\n",
      "Texto: Student, student, student. \n",
      "Classe: Student loan\n",
      "\n",
      "Texto: I am 24 years old \n",
      "Classe: Credit reporting, credit repair services, or other personal consumer reports\n",
      "\n",
      "Texto: I need to send an email to my professor \n",
      "Classe: Money transfer, virtual currency, or money service\n",
      "\n"
     ]
    }
   ],
   "source": [
    "predicoes(textos, preds)"
   ]
  },
  {
   "cell_type": "markdown",
   "metadata": {},
   "source": [
    "#### 2.4 Usando o SGDClassifier"
   ]
  },
  {
   "cell_type": "code",
   "execution_count": 21,
   "metadata": {},
   "outputs": [
    {
     "data": {
      "text/plain": [
       "SGDClassifier(alpha=0.001, max_iter=5, random_state=42, tol=None)"
      ]
     },
     "execution_count": 21,
     "metadata": {},
     "output_type": "execute_result"
    }
   ],
   "source": [
    "from sklearn.linear_model import SGDClassifier\n",
    "sgdclf = SGDClassifier(loss='hinge', penalty='l2',\n",
    "                                               alpha=1e-3, random_state=42,\n",
    "                                               max_iter=5, tol=None)\n",
    "sgdclf.fit(X_train, y)"
   ]
  },
  {
   "cell_type": "code",
   "execution_count": 22,
   "metadata": {},
   "outputs": [],
   "source": [
    "preds = sgdclf.predict(teste)"
   ]
  },
  {
   "cell_type": "code",
   "execution_count": 23,
   "metadata": {},
   "outputs": [
    {
     "name": "stdout",
     "output_type": "stream",
     "text": [
      "Texto: I do not like to study \n",
      "Classe: Credit reporting, credit repair services, or other personal consumer reports\n",
      "\n",
      "Texto: I want to go to college \n",
      "Classe: Credit reporting, credit repair services, or other personal consumer reports\n",
      "\n",
      "Texto: I will be a computer student \n",
      "Classe: Credit reporting, credit repair services, or other personal consumer reports\n",
      "\n",
      "Texto: I need money \n",
      "Classe: Credit reporting, credit repair services, or other personal consumer reports\n",
      "\n",
      "Texto: I like data science \n",
      "Classe: Credit reporting, credit repair services, or other personal consumer reports\n",
      "\n",
      "Texto: I used my emails years ago paying for a transaction \n",
      "Classe: Credit reporting, credit repair services, or other personal consumer reports\n",
      "\n",
      "Texto: Student, student, student. \n",
      "Classe: Credit reporting, credit repair services, or other personal consumer reports\n",
      "\n",
      "Texto: I am 24 years old \n",
      "Classe: Credit reporting, credit repair services, or other personal consumer reports\n",
      "\n",
      "Texto: I need to send an email to my professor \n",
      "Classe: Credit reporting, credit repair services, or other personal consumer reports\n",
      "\n"
     ]
    }
   ],
   "source": [
    "predicoes(textos, preds)"
   ]
  },
  {
   "cell_type": "markdown",
   "metadata": {},
   "source": [
    "#### 2.5 Usando o KNeighborsClassifier"
   ]
  },
  {
   "cell_type": "code",
   "execution_count": 24,
   "metadata": {},
   "outputs": [
    {
     "data": {
      "text/plain": [
       "KNeighborsClassifier(n_neighbors=3)"
      ]
     },
     "execution_count": 24,
     "metadata": {},
     "output_type": "execute_result"
    }
   ],
   "source": [
    "from sklearn.neighbors import KNeighborsClassifier\n",
    "knnclf = KNeighborsClassifier(n_neighbors=3)\n",
    "knnclf.fit(X_train, y)"
   ]
  },
  {
   "cell_type": "code",
   "execution_count": 25,
   "metadata": {},
   "outputs": [],
   "source": [
    "preds = knnclf.predict(teste)"
   ]
  },
  {
   "cell_type": "code",
   "execution_count": 26,
   "metadata": {},
   "outputs": [
    {
     "name": "stdout",
     "output_type": "stream",
     "text": [
      "Texto: I do not like to study \n",
      "Classe: Credit reporting, credit repair services, or other personal consumer reports\n",
      "\n",
      "Texto: I want to go to college \n",
      "Classe: Credit reporting, credit repair services, or other personal consumer reports\n",
      "\n",
      "Texto: I will be a computer student \n",
      "Classe: Credit reporting, credit repair services, or other personal consumer reports\n",
      "\n",
      "Texto: I need money \n",
      "Classe: Credit card or prepaid card\n",
      "\n",
      "Texto: I like data science \n",
      "Classe: Credit reporting, credit repair services, or other personal consumer reports\n",
      "\n",
      "Texto: I used my emails years ago paying for a transaction \n",
      "Classe: Credit reporting, credit repair services, or other personal consumer reports\n",
      "\n",
      "Texto: Student, student, student. \n",
      "Classe: Student loan\n",
      "\n",
      "Texto: I am 24 years old \n",
      "Classe: Credit reporting, credit repair services, or other personal consumer reports\n",
      "\n",
      "Texto: I need to send an email to my professor \n",
      "Classe: Credit reporting, credit repair services, or other personal consumer reports\n",
      "\n"
     ]
    }
   ],
   "source": [
    "predicoes(textos, preds)"
   ]
  },
  {
   "cell_type": "markdown",
   "metadata": {},
   "source": [
    "### 3. Separando a base em treino e teste"
   ]
  },
  {
   "cell_type": "code",
   "execution_count": 27,
   "metadata": {},
   "outputs": [],
   "source": [
    "from sklearn.model_selection import train_test_split\n",
    "X_train,X_test,y_train,y_test=train_test_split(X,y)"
   ]
  },
  {
   "cell_type": "markdown",
   "metadata": {},
   "source": [
    "### 4. Avaliando modelos"
   ]
  },
  {
   "cell_type": "code",
   "execution_count": 28,
   "metadata": {},
   "outputs": [],
   "source": [
    "X_test_countVect = count_vect.transform(X_test)"
   ]
  },
  {
   "cell_type": "markdown",
   "metadata": {},
   "source": [
    "#### 4.1 Avaliando com com MultinomialNB"
   ]
  },
  {
   "cell_type": "code",
   "execution_count": 29,
   "metadata": {},
   "outputs": [
    {
     "data": {
      "text/plain": [
       "0.726700555439915"
      ]
     },
     "execution_count": 29,
     "metadata": {},
     "output_type": "execute_result"
    }
   ],
   "source": [
    "nb.score(X_test_countVect,y_test)"
   ]
  },
  {
   "cell_type": "markdown",
   "metadata": {},
   "source": [
    "#### 4.2 Avaliando com SGDClassifier"
   ]
  },
  {
   "cell_type": "code",
   "execution_count": 30,
   "metadata": {},
   "outputs": [
    {
     "data": {
      "text/plain": [
       "0.7569594320709035"
      ]
     },
     "execution_count": 30,
     "metadata": {},
     "output_type": "execute_result"
    }
   ],
   "source": [
    "sgdclf.score(X_test_countVect, y_test)"
   ]
  },
  {
   "cell_type": "markdown",
   "metadata": {},
   "source": [
    "#### 4.3 Avaliando com KNeighborsClassifier"
   ]
  },
  {
   "cell_type": "code",
   "execution_count": 31,
   "metadata": {},
   "outputs": [
    {
     "data": {
      "text/plain": [
       "0.7617195630977552"
      ]
     },
     "execution_count": 31,
     "metadata": {},
     "output_type": "execute_result"
    }
   ],
   "source": [
    "knnclf.score(X_test_countVect, y_test)"
   ]
  },
  {
   "cell_type": "markdown",
   "metadata": {},
   "source": [
    "### 5. Adicionando em pipelines"
   ]
  },
  {
   "cell_type": "code",
   "execution_count": 32,
   "metadata": {},
   "outputs": [],
   "source": [
    "from sklearn.pipeline import Pipeline\n",
    "from sklearn.feature_extraction.text import TfidfVectorizer, TfidfTransformer\n",
    "from sklearn.linear_model import SGDClassifier"
   ]
  },
  {
   "cell_type": "markdown",
   "metadata": {},
   "source": [
    "#### 5.1 CountVectorizer com MultinomialNB"
   ]
  },
  {
   "cell_type": "code",
   "execution_count": 33,
   "metadata": {},
   "outputs": [],
   "source": [
    "pipeline = Pipeline([\n",
    "                        ('count_vect', CountVectorizer(lowercase=True,stop_words='english')),\n",
    "                        ('clf', MultinomialNB())\n",
    "                    ])"
   ]
  },
  {
   "cell_type": "code",
   "execution_count": 34,
   "metadata": {},
   "outputs": [
    {
     "data": {
      "text/plain": [
       "0.7276701103211034"
      ]
     },
     "execution_count": 34,
     "metadata": {},
     "output_type": "execute_result"
    }
   ],
   "source": [
    "pipeline.fit(X_train, y_train)\n",
    "pipeline.score(X_test, y_test)"
   ]
  },
  {
   "cell_type": "markdown",
   "metadata": {},
   "source": [
    "#### 5.2 TfidfVectorizer com MultinomialNB"
   ]
  },
  {
   "cell_type": "code",
   "execution_count": 35,
   "metadata": {},
   "outputs": [],
   "source": [
    "pipeline = Pipeline([\n",
    "                        ('count_vect', TfidfVectorizer(lowercase=True,stop_words='english')),\n",
    "                        ('clf', MultinomialNB())\n",
    "                    ])\n"
   ]
  },
  {
   "cell_type": "code",
   "execution_count": 36,
   "metadata": {},
   "outputs": [
    {
     "data": {
      "text/plain": [
       "0.6762672684845364"
      ]
     },
     "execution_count": 36,
     "metadata": {},
     "output_type": "execute_result"
    }
   ],
   "source": [
    "pipeline.fit(X_train,y_train)\n",
    "pipeline.score(X_test,y_test)"
   ]
  },
  {
   "cell_type": "markdown",
   "metadata": {},
   "source": [
    "#### 5.3 CountVectorizer, TfidfTransformer e MultinomialNB"
   ]
  },
  {
   "cell_type": "code",
   "execution_count": 37,
   "metadata": {},
   "outputs": [],
   "source": [
    "#TfidfTransformer - Transform a count matrix to a normalized tf or tf-idf representation\n",
    "pipeline = Pipeline([\n",
    "                         ('vect', CountVectorizer()),\n",
    "                         ('tfidf', TfidfTransformer()), #usando l1 deu um resultado pior que o l2\n",
    "                         ('clf', MultinomialNB()),\n",
    "                    ])"
   ]
  },
  {
   "cell_type": "code",
   "execution_count": 38,
   "metadata": {},
   "outputs": [
    {
     "data": {
      "text/plain": [
       "0.6579991016553643"
      ]
     },
     "execution_count": 38,
     "metadata": {},
     "output_type": "execute_result"
    }
   ],
   "source": [
    "pipeline.fit(X_train,y_train)\n",
    "pipeline.score(X_test,y_test)"
   ]
  },
  {
   "cell_type": "markdown",
   "metadata": {},
   "source": [
    "#### 5.4 CountVectorizer, TfidfTransformer e SGDClassifier"
   ]
  },
  {
   "cell_type": "code",
   "execution_count": 39,
   "metadata": {},
   "outputs": [],
   "source": [
    "pipeline = Pipeline([\n",
    "                         ('vect', CountVectorizer()),\n",
    "                         ('tfidf', TfidfTransformer()),\n",
    "                         ('clf', SGDClassifier(loss='hinge', penalty='l2',\n",
    "                                               alpha=1e-3, random_state=42,\n",
    "                                               max_iter=5, tol=None)),\n",
    "                     ])"
   ]
  },
  {
   "cell_type": "code",
   "execution_count": 40,
   "metadata": {},
   "outputs": [
    {
     "data": {
      "text/plain": [
       "0.6946997666495032"
      ]
     },
     "execution_count": 40,
     "metadata": {},
     "output_type": "execute_result"
    }
   ],
   "source": [
    "pipeline.fit(X_train,y_train)\n",
    "pipeline.score(X_test,y_test)"
   ]
  },
  {
   "cell_type": "markdown",
   "metadata": {},
   "source": [
    "#### 5.5 CountVectorizer  e KNeighborsClassifier"
   ]
  },
  {
   "cell_type": "code",
   "execution_count": 41,
   "metadata": {},
   "outputs": [],
   "source": [
    "pipeline = Pipeline([\n",
    "                        ('count_vect', CountVectorizer(lowercase=True,stop_words='english')),\n",
    "                        ('clf', KNeighborsClassifier(n_neighbors=3))\n",
    "                    ])"
   ]
  },
  {
   "cell_type": "code",
   "execution_count": 42,
   "metadata": {},
   "outputs": [
    {
     "data": {
      "text/plain": [
       "0.5833488535150473"
      ]
     },
     "execution_count": 42,
     "metadata": {},
     "output_type": "execute_result"
    }
   ],
   "source": [
    "pipeline.fit(X_train,y_train)\n",
    "pipeline.score(X_test,y_test)"
   ]
  }
 ],
 "metadata": {
  "kernelspec": {
   "display_name": "Python 3",
   "language": "python",
   "name": "python3"
  },
  "language_info": {
   "codemirror_mode": {
    "name": "ipython",
    "version": 3
   },
   "file_extension": ".py",
   "mimetype": "text/x-python",
   "name": "python",
   "nbconvert_exporter": "python",
   "pygments_lexer": "ipython3",
   "version": "3.9.4"
  }
 },
 "nbformat": 4,
 "nbformat_minor": 2
}
